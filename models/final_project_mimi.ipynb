{
 "cells": [
  {
   "cell_type": "markdown",
   "metadata": {},
   "source": [
    "# <center>  Is it a good strategy for mangrove conservation by improving public awareness? A social-media-analysis case study to link public perceptions with mangrove conservation and deforestation. </center>\n",
    "\n",
    "<center>By  Mimi Gong</center>"
   ]
  },
  {
   "cell_type": "markdown",
   "metadata": {},
   "source": [
    " <img src=\"https://www.thegef.org/sites/default/files/shutterstock_618408794.jpg\" width=\"60%\">\n",
    "<p style=\"text-align: right;\">Image from: https://www.thegef.org/news/mangroves-spotlight</p>"
   ]
  },
  {
   "cell_type": "markdown",
   "metadata": {},
   "source": [
    "---\n",
    "# Authors\n",
    "\n",
    "  Mimi Gong\n",
    "  \n",
    "  (Part of the code is adopted from Meng Cai's reserach project)\n"
   ]
  },
  {
   "cell_type": "markdown",
   "metadata": {},
   "source": [
    "---\n",
    "# Abstract\n",
    "\n",
    "Although environmental impacts such as mangrove deforestation are happening locally, the forces that shape local decisions and conservation policies are increasingly global. Exchanges of materials, people, and even information across space and time lead to complex socio-environmental interactions and require a better understanding of how complex interactions lead to successful conservation management. This study focus on information exchange, which can strongly influence human behavior on resource use, management, and sustainability. We uses China as a pilot study site to see have social media data can influence real-world mangrove conservation and deforestation activities. The study serves as a starting point to connect scientific analysis with public deliberation in decision-making processes in mangrove conservation and the result will provide conceptual and empirical evidence in enhancing mangrove conservation strategies and simulate directions in studying mangrove coupled systems that can benefit both the environment and the communities. "
   ]
  },
  {
   "cell_type": "markdown",
   "metadata": {},
   "source": [
    "----\n",
    "# Statement of Need\n",
    "\n",
    "Mangrove forests can provide multiple ecosystem services to humans, such as economic incentives, coastal resilience, and high carbon storage (Friess, 2016). From remote-sensing images, researchers have determined that over 35% of this ecosystem has been negatively affected by markets as increased international demand for commodities such as palm oil, farmed fish, and agriculture cultivation during the past two decades (Richards & Friess, 2016). Government and non-governmental organizations have implemented mangrove conservation policies for years. However, no matter how strong or how many strategies are implemented, mangrove loss has never stopped (Friess et al., 2016, 2019). The ecosystem services that mangrove forests have provided are particularly beneficial to coastal communities, and the dependence on the mangrove will lead to these forests’ deforestation or degradation. Therefore, to conduct effective mangrove conservation strategies, we should address the critical question of how to help local land-use decision-makers to foster sustainable modes of land use that can alleviate poverty while conserving the mangrove nature (Friis, 2019).\n",
    "\n",
    "Currently, local land-use decisions are increasingly caused by and moderated through capital flows, markets, information flows, and other distant actors(Liu et al., 2013). As regions become more interconnected, we should identify effective conservation strategies that are implemented locally but should consider its increasing linkage with distal causes and impacts. This approach to view mangrove deforestation and conservation based on their spatial connection is essential because mangrove conservation efforts always start from the push led by international organizations outside of mangrove coverage areas (Waldron 2013,2017). These mangrove conservation efforts start from the emerging awareness of ecosystem services that mangrove can provide. Therefore, it would be interesting to see how the merging awareness of different ecosystem services in mangrove are related to conservation efforts and flows between systems, and how the changes in perception of mangrove are related to mangrove deforestation and conservation in the real world. By synchronizing the temporal and spatial scales to conduct a cross-nation study, this study will collect and use a wide range of ecological, socio-economic, and remote sensing data, and identify the general relationship between public perception relevant to mangrove conservation and mangrove coverage change. In addition, we will use China as a pilot study site to investigate the mechanism of how public perception will lead to conservation efforts and responds to conservation success.\n",
    "\n",
    "In the face of deepening environmental crisis, including mangrove deforestation, China has become innovative in its conservation policies and has implemented them on a breathtaking scale. Thanks to these conservation policies, China has gone from devastating mangrove deforestation to active restoration for the past decades and has become one of few countries without mangrove net loss. In addition, the booming usage of social media such as Weibo, a Chinese version of Twitter, has become immersed in the daily lives of the Chinese population, including government agencies and non-governmental organizations. Social media such as Weibo has become a vital platform for the public to communicate their ideas and values, including the administrative authorities to announce their policies and norms. In return, Weibo is also an essential pathway for the government to collect public opinions about their policies. \n",
    "\n",
    "Therefore, to analyze regional scales of public perception, we will use geotagged data from Weibo to quantify the public’s awareness of mangroves in China and take China as a pilot site to investigate the mechanism on how public perception is linked with mangrove conservation efforts and conservation success.  This study serves as a starting point to connect scientific analysis with public deliberation in decision-making processes in mangrove conservation, which has not been studied yet. The results will provide conceptual and empirical evidence in enhancing mangrove conservation strategies and simulate directions in studying mangrove coupled systems that can benefit both the environment and the communities.\n",
    "\n",
    "This software documents all code to achieve this project and provide a standardization of coding for researchers to conduct similar projects using Twitter data and conducting content analysis"
   ]
  },
  {
   "cell_type": "markdown",
   "metadata": {},
   "source": [
    "----\n",
    "# Installation instructions\n",
    "First, clone the git repository from github:\n",
    "\n",
    "\n",
    "    git clone https://github.com/lwt852/MangroveConservation.git\n",
    "\n",
    "\n",
    "Once you download the zip file, type the below code in your terminal to set up a conda environment \n",
    "\n",
    "     make init\n",
    " \n",
    "Your computer should be able to automatically create a temp envirnment with all packages needed. \n",
    "\n",
    "Alternatively, you can set up a conda environment by yourself using the command below:\n",
    "\n",
    "\n",
    "    conda env create --prefix ./envs --file environment.yml\n",
    "\n",
    "    conda activate ./envs\n",
    "\n",
    "If there is any errors, the full list of packages used for this software is here:\n",
    "\n",
    "        'jupyter',\n",
    "        'spacy',\n",
    "        'pandas',\n",
    "        'pyyaml',\n",
    "        'pylint', \n",
    "        'matplotlib',\n",
    "        'lxml',\n",
    "        'gensim',\n",
    "        'scikit-learn',\n",
    "        'nltk',\n",
    "        'textblob',\n",
    "        'json_lines',\n",
    "        'pyLDAvis',\n",
    "        'wordcloud',\n",
    "        'numpy',\n",
    "        'pdoc3',\n",
    "        'autopep8',\n",
    "        'pytest',\n",
    "        'pip',\n",
    "        'geopandas',\n",
    "        'shapely'"
   ]
  },
  {
   "cell_type": "markdown",
   "metadata": {},
   "source": [
    "----\n",
    "# Unit Tests\n",
    "\n",
    " Unit tests are provided at `./MangroveConservation/MangroveConservation/tests`\n",
    " \n",
    " Once you download all required softwares from above, you can set up the temp environment from following command:\n",
    " \n",
    "     conda activate ./envs\n",
    "\n",
    "In this temp environment, you can run all unit tests code in two ways, both should work:\n",
    "\n",
    "    make test\n",
    "    \n",
    "or\n",
    "    \n",
    "    pytest MangroveConservation/test\n",
    "    \n",
    "In unit tests, we have four test files to test each module separately using sample data. All tests should be passed.\n"
   ]
  },
  {
   "cell_type": "markdown",
   "metadata": {},
   "source": [
    "----\n",
    "# Example usage\n",
    "The details of the example is included in a Jupyter Notebook called `example.ipynb` and  could be found at the root directory `./MangroveConservation`\n",
    "\n",
    "This example downloaded global twitter data from 2019-6-19 to 2019-12-31 with a key word \" mangrove forest\", and used all modules mentioned below in the methodology."
   ]
  },
  {
   "cell_type": "markdown",
   "metadata": {},
   "source": [
    "---\n",
    "# Methodology\n",
    " To contrast national versus regional scales of public perception, we will use geotagged data from Twitter to quantify the public awareness of mangroves in China and take China as a pilot site to investigate how public perception is linked with mangrove conservation efforts and deforestation. Twitter/Weibo data has been widely used to monitor public perceptions of conservation reliably because it shows spatially explicit relative discussion of specific terms within the platform from 2006 to the present (Cooper et al. 2019).\n",
    " \n",
    "To investigate the public perception in China, we will use WeiboAPI, a Chinese Twitter API, to collect all posts from 2010 till 2020 with keywords related to the ‘mangrove ecosystem’ and ‘mangrove forest.’ In addition to the posts and the geospatial location of these posts, other supplementary information related to the posts will be collected. For example, the description (“bio”), the geographic location, and personal information of the posts’ holders, including their place of residence, age, gender, nationality, etc., if provided(Toivonen et al., 2019). We will also collect users’ social impact data, including how many friends and followers they have. This information will help us to identify different groups of users, communities, and posts; TwitterAPI can access the data detailed above through full-archive sandbox API, while Weibo API needs more time for exploration of their API usage.\n",
    "\n",
    "Once the dataset is ready, we can conduct different types of text analysis, such as sentiment and network analysis. Through a sentiment classification framework such as Textblob, we can identify the attitudes (positive, neutral, and negative) of all posts related to the mangrove. After we differentiate the attitudes of posts, we can visualize the spatial pattern of users and contents by their attitudes and answer our hypothesis question as to whether the negative discussion on mangrove comes from local communities and whether the spatial location of these discussions is aligned with mangrove deforestation.\n",
    "\n",
    "In addition, we can conduct supervised machine-learning technique to do classification and categorize users and posts related to specific keywords in mangrove discussions such as coastal protection, ecotourism, biodiversity conservation, etc(Molino et al., 2019). These keywords are related to different ecosystem services that mangrove forests can provide. By identifying the spatial distribution of discussions and their communities on various mangrove ecosystem services, we can identify whether these discussions are aligned with conservation efforts such as protected areas and visualize how the communities are developed and evolved in these different discussion topics. All in all, the different classification mechanisms of posts can help to identify the high-frequency words used in different opinions of mangrove and help discover the social network of core communities of users involved in these discussions. \n",
    "\n",
    "Social network analysis is an approach to map and measure the relationships between people, groups, discussion topics, and the dissemination of ideas(Wellman, 2001). We can conduct a social network analysis to understand how ideas, values, and opinions spread in the system, and how different communities form around specific topics or opinions. In this research, we can identify the influential actors in the mangrove discussion and evaluate the influence of key stakeholders on their pathways of managing mangrove forests(Toivonen et al., 2019) \n",
    "\n",
    "Lastly, we will synthesize the results from both sentiment analysis and network analysis to build a conceptual framework to map how public perceptions in China are affecting real-world mangrove forest coverage.\n",
    "\n",
    "Currently, the code only have four modules to achieve the first part of the above method:semtiment analysis. \n",
    "\n",
    "`get_twitter_data` module is for data collection process. Due to the firewall resctrictions in accessing WeiboAPI, we used twitter API instead for now. This process will be updated once the author has better understanding on WeiboAPI.\n",
    "\n",
    "`clean_text` is the pre-processing of the twitter data by cleaning and reorganizing. It has functions such as remove empty or NA ansers, links, special charaters, and reorganize the format of time and location information of twitter data. \n",
    "\n",
    "`sentiment_analysis` and `visualization` are two key analysis modules. `sentiment analysis` module is mostly adopted from Meng Cai's project.\n",
    "\n",
    "Below is her words in describing the module:\n",
    "\n",
    "\"Counting and plotting the most frequent words and phrases help users to better understand the contents of the text. The function `LDAtopic` discovers the salient topics in text. It is done by Latent Dirichlet Allocation (LDA) topic modeling, which is a type of unsupervised machine learning. LDA considers a document as a bag of words and assumes that a document is a distribution of some topics and each topic is a distribution of some words. This function is built upon [Gensim](https://radimrehurek.com/gensim/), [nltk](https://www.nltk.org/), and [scikit-learn](https://scikit-learn.org/stable/). The topics detected by `LDAtopic` could be visualized by `PlotLDA`, which is built upon [pyLDAvis](https://pypi.org/project/pyLDAvis/).\n",
    "\n",
    " Existing libraries such as [TextBlob](https://textblob.readthedocs.io/en/dev/) only achieves about 60% accuracy compared to manual coding. `SortText` uses [Neural Networks classifiers](https://scikit-learn.org/stable/modules/generated/sklearn.neural_network.MLPClassifier.html) for sentiment analysis. The accuracy increases to 80%, which is comparable to the agreement rate between two human coders.\"\n",
    " \n",
    " `visualization` module is to spatially map the distribution of twitter data. In the future, it will be used to overlap with mangrove deforestation data and global protected area map. It will help to identify the hotspot areas where information of social media is directly linked with real-world mangrove deforestation and mangrove conservation efforts. \n",
    " \n",
    "This software meets all the submission guidelines.\n",
    "- Bi-weekly reports could be found at `./MangroveConservation/models`.\n",
    "- The original proposal is included at `./MangroveConservation/docs`.\n",
    "- The final report could be found at `./MangroveConservation/models`.\n",
    "- The software could be found at `./MangroveConservation/MangroveConservation`.\n",
    "- Automatic documentations generated by `pdoc3` could be found at `./MangroveConservation/docs`.\n",
    "- A MIT license is included in the software root directory `./MangroveConservation`.\n",
    "- Unit tests are provided at `./MangroveConservation/MangroveConservation/tests`.\n",
    "- Example data and a Jupyter Notebook demonstrating how to use the software could be found at the root directory `./MangroveConservation`."
   ]
  },
  {
   "cell_type": "markdown",
   "metadata": {},
   "source": [
    "---\n",
    "# Concluding Remarks\n",
    "\n",
    "This software is still undergoing. Many functions have not been fully developed and more data need to be assessed to achieve the reserach goal. It's too early to have concluding remarks.\n",
    "\n"
   ]
  },
  {
   "cell_type": "markdown",
   "metadata": {},
   "source": [
    "----\n",
    "# References\n",
    "\n",
    "Balmford, A., Green, J. M. H., Anderson, M., Beresford, J., Huang, C., Naidoo, R., Walpole, M., & Manica, A. (2015). Walk on the Wild Side: Estimating the Global Magnitude of Visits to Protected Areas. PLOS Biology, 13(2), e1002074. https://doi.org/10.1371/journal.pbio.1002074\n",
    "\n",
    "Bivand, R. S., & Wong, D. W. S. (2018). Comparing implementations of global and local indicators of spatial association. TEST, 27(3), 716–748. https://doi.org/10.1007/s11749-018-0599-x\n",
    "\n",
    "Cooper, M. W., Di Minin, E., Hausmann, A., Qin, S., Schwartz, A. J., & Correia, R. A. (2019). Developing a global indicator for Aichi Target 1 by merging online data sources to measure biodiversity awareness and engagement. Biological Conservation, 230, 29–36. https://doi.org/10.1016/j.biocon.2018.12.004\n",
    "\n",
    "Friess, D. A. (2016). Ecosystem Services and Disservices of Mangrove Forests: Insights from Historical Colonial Observations. Forests, 7(9), 183. https://doi.org/10.3390/f7090183\n",
    "\n",
    "Friess, D. A., Rogers, K., Lovelock, C. E., Krauss, K. W., Hamilton, S. E., Lee, S. Y., Lucas, R., Primavera, J., Rajkaran, A., & Shi, S. (2019). The State of the World’s Mangrove Forests: Past, Present, and Future. Annual Review of Environment and Resources, 44(1), null. https://doi.org/10.1146/annurev-environ-101718-033302\n",
    "\n",
    "Friess, D. A., Thompson, B. S., Brown, B., Amir, A. A., Cameron, C., Koldewey, H. J., Sasmito, S. D., & Sidik, F. (2016). Policy challenges and approaches for the conservation of mangrove forests in Southeast Asia. Conservation Biology, 30(5), 933–949. https://doi.org/10.1111/cobi.12784\n",
    "\n",
    "Friis, C. (2019). Telecoupling. Springer Berlin Heidelberg.\n",
    "\n",
    "Gollini, I., Lu, B., Charlton, M., Brunsdon, C., & Harris, P. (2015). GWmodel: An R Package for Exploring Spatial Heterogeneity Using Geographically Weighted Models. Journal of Statistical Software, 63(1), 1–50. https://doi.org/10.18637/jss.v063.i17\n",
    "\n",
    "Kaufmann, D., Kraay, A., & Mastruzzi, M. (2010). The Worldwide Governance Indicators: Methodology and Analytical Issues. https://openknowledge.worldbank.org/handle/10986/3913\n",
    "\n",
    "Lenzen, M., Moran, D., Kanemoto, K., & Geschke, A. (2013). Building Eora: A Global Multi-Region Input–Output Database at High Country and Sector Resolution. Economic Systems Research, 25(1), 20–49. https://doi.org/10.1080/09535314.2013.769938\n",
    "\n",
    "Liu, J., Hull, V., Batistella, M., DeFries, R., Dietz, T., Fu, F., Hertel, T., Izaurralde, R. C., Lambin, E., Li, S., Martinelli, L., McConnell, W., Moran, E., Naylor, R., Ouyang, Z., Polenske, K., Reenberg, A., de Miranda Rocha, G., Simmons, C., … Zhu, C. (2013). Framing Sustainability in a Telecoupled World. Ecology and Society, 18(2). https://doi.org/10.5751/ES-05873-180226\n",
    "\n",
    "Molino, P., Dudin, Y., & Miryala, S. S. (2019). Ludwig: A type-based declarative deep learning toolbox. ArXiv:1909.07930 [Cs, Stat]. http://arxiv.org/abs/1909.07930\n",
    "\n",
    "Richards, D. R., & Friess, D. A. (2016). Rates and drivers of mangrove deforestation in Southeast Asia, 2000–2012. Proceedings of the National Academy of Sciences, 113(2), 344–349. https://doi.org/10.1073/pnas.1510272113\n",
    "\n",
    "Toivonen, T., Heikinheimo, V., Fink, C., Hausmann, A., Hiippala, T., Järv, O., Tenkanen, H., & Di Minin, E. (2019). Social media data for conservation science: A methodological overview. Biological Conservation, 233, 298–315. https://doi.org/10.1016/j.biocon.2019.01.023\n",
    "\n",
    "Waldron, A., Miller, D. C., Redding, D., Mooers, A., Kuhn, T. S., Nibbelink, N., Roberts, J. T., Tobias, J. A., & Gittleman, J. L. (2017). Reductions in global biodiversity loss predicted from conservation spending. Nature, 551(7680), 364–367. https://doi.org/10.1038/nature24295\n",
    "\n",
    "Waldron, A., Mooers, A. O., Miller, D. C., Nibbelink, N., Redding, D., Kuhn, T. S., Roberts, J. T., & Gittleman, J. L. (2013). Targeting global conservation funding to limit immediate biodiversity declines. Proceedings of the National Academy of Sciences, 110(29), 12144–12148. https://doi.org/10.1073/pnas.1221370110\n",
    "\n",
    "Wellman, B. (2001). Computer Networks As Social Networks. Science, 293(5537), 2031–2034. https://doi.org/10.1126/science.1065547\n",
    "Wendling, Z., Emerson, J., Esty, D. C., & Sherbinin, A. de. (2018). 2018 Environmental Performance Index (EPI). Yale Center for Environmental Law & Policy. http://dx.doi.org/10.13140/RG.2.2.34995.12328\n",
    "\n",
    "# Softwares\n",
    "\n",
    "[Gensim](https://radimrehurek.com/gensim/)\n",
    "\n",
    "[NBHReviewCollector](https://gitlab.msu.edu/caimeng2/NBHReviewCollector)\n",
    "\n",
    "[nltk](https://www.nltk.org/)\n",
    "\n",
    "[pyLDAvis](https://pypi.org/project/pyLDAvis/)\n",
    "\n",
    "[scikit-learn](https://scikit-learn.org/stable/)\n",
    "\n",
    "[TextBlob](https://textblob.readthedocs.io/en/dev/)\n",
    "\n",
    "[TwitterAPI](https://github.com/geduldig/TwitterAPI/tree/master/TwitterAPI)\n"
   ]
  }
 ],
 "metadata": {
  "anaconda-cloud": {},
  "kernelspec": {
   "display_name": "Python 3",
   "language": "python",
   "name": "python3"
  },
  "language_info": {
   "codemirror_mode": {
    "name": "ipython",
    "version": 3
   },
   "file_extension": ".py",
   "mimetype": "text/x-python",
   "name": "python",
   "nbconvert_exporter": "python",
   "pygments_lexer": "ipython3",
   "version": "3.7.3"
  }
 },
 "nbformat": 4,
 "nbformat_minor": 1
}
