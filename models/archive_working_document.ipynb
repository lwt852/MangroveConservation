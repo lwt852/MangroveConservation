{
 "cells": [
  {
   "cell_type": "markdown",
   "metadata": {},
   "source": [
    "# pdoc,pytest and lint score"
   ]
  },
  {
   "cell_type": "code",
   "execution_count": null,
   "metadata": {},
   "outputs": [],
   "source": [
    "#pdoc3\n",
    "!export PATH=$PATH:~/.local/bin/; cd CMSE802/MangroveConservation;pdoc3 --force --html --output-dir ./docs MangroveConservation/filename.py"
   ]
  },
  {
   "cell_type": "code",
   "execution_count": null,
   "metadata": {},
   "outputs": [],
   "source": [
    "#pytest\n",
    "!export PYTHONPATH=</home/gongmimi/CMSE802/MangroveConservation/MangroveConservation>: $PYTHONPATH;set Pythonpath=<C:\\Users\\DELL\\Dropbox\\MangroveConservation/MangroveConservation>;%Pythonpath% pytest MangroveConservation/test/test_sentiment.py"
   ]
  },
  {
   "cell_type": "code",
   "execution_count": null,
   "metadata": {},
   "outputs": [],
   "source": [
    "#linting\n",
    "!pylint MangroveConservation"
   ]
  },
  {
   "cell_type": "code",
   "execution_count": null,
   "metadata": {},
   "outputs": [],
   "source": [
    "!export PATH=$PATH:~/.local/bin/; autopep8 MangroveConservation/sentiment_analaysis.py  > MangroveConservation/sentiment_analysis1.py\n"
   ]
  }
 ],
 "metadata": {
  "kernelspec": {
   "display_name": "Python 3",
   "language": "python",
   "name": "python3"
  },
  "language_info": {
   "codemirror_mode": {
    "name": "ipython",
    "version": 3
   },
   "file_extension": ".py",
   "mimetype": "text/x-python",
   "name": "python",
   "nbconvert_exporter": "python",
   "pygments_lexer": "ipython3",
   "version": "3.7.3"
  }
 },
 "nbformat": 4,
 "nbformat_minor": 2
}
